{
  "cells": [
    {
      "cell_type": "markdown",
      "metadata": {
        "id": "view-in-github",
        "colab_type": "text"
      },
      "source": [
        "<a href=\"https://colab.research.google.com/github/sttutie/Jungho-Shin/blob/main/quickstart_tutorial_ipynb%EC%9D%98_%EC%82%AC%EB%B3%B8.ipynb\" target=\"_parent\"><img src=\"https://colab.research.google.com/assets/colab-badge.svg\" alt=\"Open In Colab\"/></a>"
      ]
    },
    {
      "cell_type": "code",
      "execution_count": 1,
      "metadata": {
        "id": "jRa42cQdErJw"
      },
      "outputs": [],
      "source": [
        "# Google Colab에서 노트북을 실행하실 때에는\n",
        "# https://tutorials.pytorch.kr/beginner/colab 를 참고하세요.\n",
        "%matplotlib inline"
      ]
    },
    {
      "cell_type": "code",
      "execution_count": 2,
      "metadata": {
        "id": "ON08peatErJz"
      },
      "outputs": [],
      "source": [
        "import torch\n",
        "from torch import nn\n",
        "from torch.utils.data import DataLoader\n",
        "from torchvision import datasets\n",
        "from torchvision.transforms import ToTensor"
      ]
    },
    {
      "cell_type": "code",
      "execution_count": 3,
      "metadata": {
        "id": "YwCKIntQErJz",
        "colab": {
          "base_uri": "https://localhost:8080/",
          "height": 0
        },
        "outputId": "65a535ed-17e3-4dab-9df8-16d2156966da"
      },
      "outputs": [
        {
          "output_type": "stream",
          "name": "stdout",
          "text": [
            "Downloading http://fashion-mnist.s3-website.eu-central-1.amazonaws.com/train-images-idx3-ubyte.gz\n",
            "Downloading http://fashion-mnist.s3-website.eu-central-1.amazonaws.com/train-images-idx3-ubyte.gz to data/FashionMNIST/raw/train-images-idx3-ubyte.gz\n"
          ]
        },
        {
          "output_type": "stream",
          "name": "stderr",
          "text": [
            "100%|██████████| 26421880/26421880 [00:01<00:00, 20728510.80it/s]\n"
          ]
        },
        {
          "output_type": "stream",
          "name": "stdout",
          "text": [
            "Extracting data/FashionMNIST/raw/train-images-idx3-ubyte.gz to data/FashionMNIST/raw\n",
            "\n",
            "Downloading http://fashion-mnist.s3-website.eu-central-1.amazonaws.com/train-labels-idx1-ubyte.gz\n",
            "Downloading http://fashion-mnist.s3-website.eu-central-1.amazonaws.com/train-labels-idx1-ubyte.gz to data/FashionMNIST/raw/train-labels-idx1-ubyte.gz\n"
          ]
        },
        {
          "output_type": "stream",
          "name": "stderr",
          "text": [
            "100%|██████████| 29515/29515 [00:00<00:00, 515281.70it/s]\n"
          ]
        },
        {
          "output_type": "stream",
          "name": "stdout",
          "text": [
            "Extracting data/FashionMNIST/raw/train-labels-idx1-ubyte.gz to data/FashionMNIST/raw\n",
            "\n",
            "Downloading http://fashion-mnist.s3-website.eu-central-1.amazonaws.com/t10k-images-idx3-ubyte.gz\n",
            "Downloading http://fashion-mnist.s3-website.eu-central-1.amazonaws.com/t10k-images-idx3-ubyte.gz to data/FashionMNIST/raw/t10k-images-idx3-ubyte.gz\n"
          ]
        },
        {
          "output_type": "stream",
          "name": "stderr",
          "text": [
            "100%|██████████| 4422102/4422102 [00:00<00:00, 6308455.05it/s]\n"
          ]
        },
        {
          "output_type": "stream",
          "name": "stdout",
          "text": [
            "Extracting data/FashionMNIST/raw/t10k-images-idx3-ubyte.gz to data/FashionMNIST/raw\n",
            "\n",
            "Downloading http://fashion-mnist.s3-website.eu-central-1.amazonaws.com/t10k-labels-idx1-ubyte.gz\n",
            "Downloading http://fashion-mnist.s3-website.eu-central-1.amazonaws.com/t10k-labels-idx1-ubyte.gz to data/FashionMNIST/raw/t10k-labels-idx1-ubyte.gz\n"
          ]
        },
        {
          "output_type": "stream",
          "name": "stderr",
          "text": [
            "100%|██████████| 5148/5148 [00:00<00:00, 12761393.02it/s]\n"
          ]
        },
        {
          "output_type": "stream",
          "name": "stdout",
          "text": [
            "Extracting data/FashionMNIST/raw/t10k-labels-idx1-ubyte.gz to data/FashionMNIST/raw\n",
            "\n"
          ]
        }
      ],
      "source": [
        "# 학습 데이터를 내려받고 변수 이름을 kimchi로\n",
        "kimchi = datasets.FashionMNIST(\n",
        "    root=\"data\",\n",
        "    train=True,\n",
        "    download=True,\n",
        "    transform=ToTensor(),  # 이미지를 Tensor로 변환\n",
        ")\n",
        "\n",
        "# 테스트 데이터를 내려받고 변수 이름을 bokkumbob으로 한다.\n",
        "bokkumbob = datasets.FashionMNIST(\n",
        "    root=\"data\",\n",
        "    train=False,\n",
        "    download=True,\n",
        "    transform=ToTensor(),  # 이미지를 Tensor로 변환\n",
        ")"
      ]
    },
    {
      "cell_type": "code",
      "execution_count": 4,
      "metadata": {
        "id": "nw5mm-Z0ErJ0",
        "colab": {
          "base_uri": "https://localhost:8080/",
          "height": 0
        },
        "outputId": "7d067b9b-d385-4ec0-9632-9d0dbdf44aa5"
      },
      "outputs": [
        {
          "output_type": "stream",
          "name": "stdout",
          "text": [
            "X의 형태 [N, C, H, W]: torch.Size([64, 1, 28, 28])\n",
            "y의 형태: torch.Size([64]) torch.int64\n"
          ]
        }
      ],
      "source": [
        "batch_size = 64\n",
        "\n",
        "#이곳변형 김치로더와 볶음밥로더를 사용한다.\n",
        "kimchi_loader = DataLoader(kimchi, batch_size=batch_size)#트레이닝\n",
        "bokkumbob_loader = DataLoader(bokkumbob, batch_size=batch_size)#테스트\n",
        "\n",
        "for X, y in bokkumbob_loader:\n",
        "    print(f\"X의 형태 [N, C, H, W]: {X.shape}\")#이곳변형 한국어를 썼다. 신토불이.\n",
        "    print(f\"y의 형태: {y.shape} {y.dtype}\")\n",
        "    break"
      ]
    },
    {
      "cell_type": "code",
      "execution_count": 6,
      "metadata": {
        "id": "wtHoaR0TErJ1",
        "colab": {
          "base_uri": "https://localhost:8080/",
          "height": 0
        },
        "outputId": "7d3314a0-83ec-4d13-d242-a357e20218e0"
      },
      "outputs": [
        {
          "output_type": "stream",
          "name": "stdout",
          "text": [
            "Using cpu device\n",
            "NeuralNetwork(\n",
            "  (flatten): Flatten(start_dim=1, end_dim=-1)\n",
            "  (linear_relu_stack): Sequential(\n",
            "    (0): Linear(in_features=784, out_features=512, bias=True)\n",
            "    (1): Sigmoid()\n",
            "    (2): Linear(in_features=512, out_features=512, bias=True)\n",
            "    (3): Sigmoid()\n",
            "    (4): Linear(in_features=512, out_features=10, bias=True)\n",
            "  )\n",
            ")\n"
          ]
        }
      ],
      "source": [
        "# 학습에 사용할 CPU나 GPU, MPS 장치를 얻습니다.\n",
        "device = (\n",
        "    \"cuda\"\n",
        "    if torch.cuda.is_available()\n",
        "    else \"mps\"\n",
        "    if torch.backends.mps.is_available()\n",
        "    else \"cpu\"\n",
        ")\n",
        "print(f\"Using {device} device\")\n",
        "\n",
        "# 모델을 정의합니다.\n",
        "class NeuralNetwork(nn.Module):\n",
        "    def __init__(self):\n",
        "        super().__init__()\n",
        "        self.flatten = nn.Flatten()\n",
        "        self.linear_relu_stack = nn.Sequential(\n",
        "            nn.Linear(28*28, 512),\n",
        "            nn.Sigmoid(),  #이곳변형 시그모이드 활성화 함수 사용\n",
        "            nn.Linear(512, 512),\n",
        "            nn.Sigmoid(),  #이곳변형 시그모이드 활성화 함수 사용\n",
        "            nn.Linear(512, 10)\n",
        "        )\n",
        "\n",
        "    def forward(self, x):\n",
        "        x = self.flatten(x)\n",
        "        logits = self.linear_relu_stack(x)\n",
        "        return logits\n",
        "\n",
        "model = NeuralNetwork().to(device)\n",
        "print(model)"
      ]
    },
    {
      "cell_type": "code",
      "execution_count": 8,
      "metadata": {
        "id": "Cvy59C9-ErJ1"
      },
      "outputs": [],
      "source": [
        "kamja_fn = nn.CrossEntropyLoss()\n",
        "optimizer = torch.optim.SGD(model.parameters(), lr=1e-3)"
      ]
    },
    {
      "cell_type": "code",
      "execution_count": 10,
      "metadata": {
        "id": "mMi5prmBErJ2"
      },
      "outputs": [],
      "source": [
        "def train(dataloader, model, kamja_fn, optimizer):\n",
        "    size = len(dataloader.dataset)\n",
        "    for batch, (X, y) in enumerate(dataloader):\n",
        "        X, y = X.to(device), y.to(device)\n",
        "\n",
        "        # 예측 오류 계산\n",
        "        pred = model(X)\n",
        "        kamja = kamja_fn(pred, y)#이곳변형 감자만 먹으면 영양이 loss 납니다. 그래서 loss 이름은 감자로 했습니다.\n",
        "\n",
        "        # 역전파\n",
        "        optimizer.zero_grad()\n",
        "        kamja.backward()\n",
        "        optimizer.step()\n",
        "\n",
        "        if batch % 100 == 0:\n",
        "            kamja, current = kamja.item(), (batch + 1) * len(X)#이곳변형 변수에 맞춰 변경\n",
        "            print(f\"kamja: {kamja:>7f}  [{current:>5d}/{size:>5d}]\")"
      ]
    },
    {
      "cell_type": "code",
      "execution_count": 11,
      "metadata": {
        "id": "cJt47jlSErJ2"
      },
      "outputs": [],
      "source": [
        "def test(dataloader, model, kamja_fn):\n",
        "    size = len(dataloader.dataset)\n",
        "    num_batches = len(dataloader)\n",
        "    model.eval()\n",
        "    test_kamja, correct = 0, 0\n",
        "    with torch.no_grad():\n",
        "        for X, y in dataloader:\n",
        "            X, y = X.to(device), y.to(device)\n",
        "            pred = model(X)\n",
        "            test_kamja += kamja_fn(pred, y).item()\n",
        "            correct += (pred.argmax(1) == y).type(torch.float).sum().item()\n",
        "    test_kamja /= num_batches\n",
        "    correct /= size\n",
        "    print(f\"Test Error: \\n Accuracy: {(100*correct):>0.1f}%, Avg kamja: {test_kamja:>8f} \\n\")"
      ]
    },
    {
      "cell_type": "code",
      "execution_count": 12,
      "metadata": {
        "id": "79pd2JaKErJ2",
        "colab": {
          "base_uri": "https://localhost:8080/",
          "height": 0
        },
        "outputId": "3fa9293f-6708-4d13-93af-8e525a23a6cc"
      },
      "outputs": [
        {
          "output_type": "stream",
          "name": "stdout",
          "text": [
            "Epoch 1\n",
            "-------------------------------\n",
            "kamja: 2.353183  [   64/60000]\n",
            "kamja: 2.314624  [ 6464/60000]\n",
            "kamja: 2.300983  [12864/60000]\n",
            "kamja: 2.304245  [19264/60000]\n",
            "kamja: 2.301820  [25664/60000]\n",
            "kamja: 2.305883  [32064/60000]\n",
            "kamja: 2.303224  [38464/60000]\n",
            "kamja: 2.300146  [44864/60000]\n",
            "kamja: 2.301665  [51264/60000]\n",
            "kamja: 2.305307  [57664/60000]\n",
            "Test Error: \n",
            " Accuracy: 10.0%, Avg kamja: 2.300322 \n",
            "\n",
            "Epoch 2\n",
            "-------------------------------\n",
            "kamja: 2.300128  [   64/60000]\n",
            "kamja: 2.304006  [ 6464/60000]\n",
            "kamja: 2.297414  [12864/60000]\n",
            "kamja: 2.302290  [19264/60000]\n",
            "kamja: 2.299113  [25664/60000]\n",
            "kamja: 2.303485  [32064/60000]\n",
            "kamja: 2.300795  [38464/60000]\n",
            "kamja: 2.297745  [44864/60000]\n",
            "kamja: 2.299260  [51264/60000]\n",
            "kamja: 2.302773  [57664/60000]\n",
            "Test Error: \n",
            " Accuracy: 10.0%, Avg kamja: 2.297888 \n",
            "\n",
            "Epoch 3\n",
            "-------------------------------\n",
            "kamja: 2.297761  [   64/60000]\n",
            "kamja: 2.301816  [ 6464/60000]\n",
            "kamja: 2.294883  [12864/60000]\n",
            "kamja: 2.300213  [19264/60000]\n",
            "kamja: 2.296443  [25664/60000]\n",
            "kamja: 2.301083  [32064/60000]\n",
            "kamja: 2.298301  [38464/60000]\n",
            "kamja: 2.295294  [44864/60000]\n",
            "kamja: 2.296793  [51264/60000]\n",
            "kamja: 2.300172  [57664/60000]\n",
            "Test Error: \n",
            " Accuracy: 10.0%, Avg kamja: 2.295391 \n",
            "\n",
            "Epoch 4\n",
            "-------------------------------\n",
            "kamja: 2.295335  [   64/60000]\n",
            "kamja: 2.299569  [ 6464/60000]\n",
            "kamja: 2.292287  [12864/60000]\n",
            "kamja: 2.298071  [19264/60000]\n",
            "kamja: 2.293689  [25664/60000]\n",
            "kamja: 2.298606  [32064/60000]\n",
            "kamja: 2.295717  [38464/60000]\n",
            "kamja: 2.292759  [44864/60000]\n",
            "kamja: 2.294226  [51264/60000]\n",
            "kamja: 2.297464  [57664/60000]\n",
            "Test Error: \n",
            " Accuracy: 10.0%, Avg kamja: 2.292797 \n",
            "\n",
            "Epoch 5\n",
            "-------------------------------\n",
            "kamja: 2.292816  [   64/60000]\n",
            "kamja: 2.297234  [ 6464/60000]\n",
            "kamja: 2.289592  [12864/60000]\n",
            "kamja: 2.295837  [19264/60000]\n",
            "kamja: 2.290809  [25664/60000]\n",
            "kamja: 2.296019  [32064/60000]\n",
            "kamja: 2.293007  [38464/60000]\n",
            "kamja: 2.290104  [44864/60000]\n",
            "kamja: 2.291520  [51264/60000]\n",
            "kamja: 2.294608  [57664/60000]\n",
            "Test Error: \n",
            " Accuracy: 10.2%, Avg kamja: 2.290069 \n",
            "\n",
            "Done!\n"
          ]
        }
      ],
      "source": [
        "epochs = 5\n",
        "for t in range(epochs):\n",
        "    print(f\"Epoch {t+1}\\n-------------------------------\")\n",
        "    train(kimchi_loader, model, kamja_fn, optimizer)\n",
        "    test(bokkumbob_loader, model, kamja_fn)\n",
        "print(\"Done!\")"
      ]
    },
    {
      "cell_type": "code",
      "execution_count": 13,
      "metadata": {
        "id": "zbqamWcXErJ3",
        "colab": {
          "base_uri": "https://localhost:8080/",
          "height": 0
        },
        "outputId": "30b47b8e-b746-47ac-fff4-d0047a7b90db"
      },
      "outputs": [
        {
          "output_type": "stream",
          "name": "stdout",
          "text": [
            "Saved PyTorch Model State to model.pth\n"
          ]
        }
      ],
      "source": [
        "torch.save(model.state_dict(), \"model.pth\")\n",
        "print(\"Saved PyTorch Model State to model.pth\")"
      ]
    },
    {
      "cell_type": "code",
      "execution_count": 14,
      "metadata": {
        "id": "SVtqcF8PErJ3",
        "colab": {
          "base_uri": "https://localhost:8080/",
          "height": 0
        },
        "outputId": "5f59da4c-e4f2-4089-f122-c2a50618c951"
      },
      "outputs": [
        {
          "output_type": "execute_result",
          "data": {
            "text/plain": [
              "<All keys matched successfully>"
            ]
          },
          "metadata": {},
          "execution_count": 14
        }
      ],
      "source": [
        "model = NeuralNetwork().to(device)\n",
        "model.load_state_dict(torch.load(\"model.pth\"))"
      ]
    },
    {
      "cell_type": "code",
      "execution_count": 16,
      "metadata": {
        "id": "gU_RSNpjErJ3",
        "colab": {
          "base_uri": "https://localhost:8080/",
          "height": 0
        },
        "outputId": "8a821594-54df-403d-8e64-33ee82e13277"
      },
      "outputs": [
        {
          "output_type": "stream",
          "name": "stdout",
          "text": [
            "Predicted: \"Coat\", Actual: \"Ankle boot\"\n"
          ]
        }
      ],
      "source": [
        "classes = [\n",
        "    \"T-shirt/top\",\n",
        "    \"Trouser\",\n",
        "    \"Pullover\",\n",
        "    \"Dress\",\n",
        "    \"Coat\",\n",
        "    \"Sandal\",\n",
        "    \"Shirt\",\n",
        "    \"Sneaker\",\n",
        "    \"Bag\",\n",
        "    \"Ankle boot\",\n",
        "]\n",
        "\n",
        "model.eval()\n",
        "x, y = bokkumbob[0][0], bokkumbob[0][1]#이곳변형 볶음밥은 최고다\n",
        "with torch.no_grad():\n",
        "    x = x.to(device)\n",
        "    pred = model(x)\n",
        "    predicted, actual = classes[pred[0].argmax(0)], classes[y]\n",
        "    print(f'Predicted: \"{predicted}\", Actual: \"{actual}\"')"
      ]
    }
  ],
  "metadata": {
    "kernelspec": {
      "display_name": "Python 3",
      "language": "python",
      "name": "python3"
    },
    "language_info": {
      "codemirror_mode": {
        "name": "ipython",
        "version": 3
      },
      "file_extension": ".py",
      "mimetype": "text/x-python",
      "name": "python",
      "nbconvert_exporter": "python",
      "pygments_lexer": "ipython3",
      "version": "3.9.16"
    },
    "colab": {
      "provenance": [],
      "include_colab_link": true
    }
  },
  "nbformat": 4,
  "nbformat_minor": 0
}